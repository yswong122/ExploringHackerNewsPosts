{
  "nbformat": 4,
  "nbformat_minor": 0,
  "metadata": {
    "colab": {
      "name": "ExploringHackerNewsPosts.ipynb",
      "provenance": [],
      "collapsed_sections": []
    },
    "kernelspec": {
      "name": "python3",
      "display_name": "Python 3"
    }
  },
  "cells": [
    {
      "cell_type": "markdown",
      "metadata": {
        "id": "drSFz-l8efT9",
        "colab_type": "text"
      },
      "source": [
        "# Finding the Most Popluar Post Types in Hacker News\n",
        "The main goal of the project is to find out which type of posts receives  most comments on average in the website [Hacker News](https://news.ycombinator.com/).\n",
        "\n",
        "We will try to find out:\n",
        "*   Whether the post that asked questions (\"Ask HN\" posts) or the one that provided contents (\"Show HN\" posts) has the largest average number of comments\n",
        "*   What is the best time period for creating the post that get the most comments on average\n",
        "\n",
        "## Summary of Results\n",
        "After analyzing the data, the conclusion we found is that the post asking the question at 3pm EST would likely attract the most comments in Hacker News.\n",
        "\n",
        "For more details, please refer to the full analysis below."
      ]
    },
    {
      "cell_type": "markdown",
      "metadata": {
        "id": "GzM4cqR8XaOs",
        "colab_type": "text"
      },
      "source": [
        "# Exploring the Existing Simplified Data\n",
        "We will first try to make use of existing data to simplifying the analzysis process and time of calculation.\n",
        "\n",
        "We will use the simplified data from the data set available in [Kaggle](https://www.kaggle.com/hacker-news/hacker-news-posts). Please note that posts with no comments is reduced from the original data set containing 300,000 rows. The data contain 20,000 random sampled rows from remaining one.\n",
        "\n",
        "Below, we will do a quick exploration of the ```hacker_news.csv``` file.\n"
      ]
    },
    {
      "cell_type": "code",
      "metadata": {
        "id": "zsCANliTehYy",
        "colab_type": "code",
        "colab": {
          "base_uri": "https://localhost:8080/",
          "height": 145
        },
        "outputId": "5606dcdf-4c6c-4df2-85c3-6d4759c1ac92"
      },
      "source": [
        "# Read in the data\n",
        "from csv import reader\n",
        "opened_file = open('/content/hacker_news.csv')\n",
        "read_file = reader(opened_file)\n",
        "\n",
        "# Transform read_file into a list of lists\n",
        "hn = list(read_file)\n",
        "\n",
        "# Quick exploration of the data\n",
        "print(*hn[:6], sep = '\\n')"
      ],
      "execution_count": 1,
      "outputs": [
        {
          "output_type": "stream",
          "text": [
            "['id', 'title', 'url', 'num_points', 'num_comments', 'author', 'created_at']\n",
            "['12224879', 'Interactive Dynamic Video', 'http://www.interactivedynamicvideo.com/', '386', '52', 'ne0phyte', '8/4/2016 11:52']\n",
            "['10975351', 'How to Use Open Source and Shut the Fuck Up at the Same Time', 'http://hueniverse.com/2016/01/26/how-to-use-open-source-and-shut-the-fuck-up-at-the-same-time/', '39', '10', 'josep2', '1/26/2016 19:30']\n",
            "['11964716', \"Florida DJs May Face Felony for April Fools' Water Joke\", 'http://www.thewire.com/entertainment/2013/04/florida-djs-april-fools-water-joke/63798/', '2', '1', 'vezycash', '6/23/2016 22:20']\n",
            "['11919867', 'Technology ventures: From Idea to Enterprise', 'https://www.amazon.com/Technology-Ventures-Enterprise-Thomas-Byers/dp/0073523429', '3', '1', 'hswarna', '6/17/2016 0:01']\n",
            "['10301696', 'Note by Note: The Making of Steinway L1037 (2007)', 'http://www.nytimes.com/2007/11/07/movies/07stein.html?_r=0', '8', '2', 'walterbell', '9/30/2015 4:12']\n"
          ],
          "name": "stdout"
        }
      ]
    },
    {
      "cell_type": "markdown",
      "metadata": {
        "id": "MKFDFZ3SfeQb",
        "colab_type": "text"
      },
      "source": [
        "Then we will split the header and the lists containing data into two lists in order to simplify the analysis process later on."
      ]
    },
    {
      "cell_type": "code",
      "metadata": {
        "id": "BMIP6qiSdv65",
        "colab_type": "code",
        "colab": {
          "base_uri": "https://localhost:8080/",
          "height": 145
        },
        "outputId": "0c6a86b9-0605-4c23-8bb7-64c33ac3e34b"
      },
      "source": [
        "# Extract the header from the data\n",
        "headers = hn[0]\n",
        "del hn[0]\n",
        "print(headers)\n",
        "print(*hn[:5], sep = '\\n')"
      ],
      "execution_count": 2,
      "outputs": [
        {
          "output_type": "stream",
          "text": [
            "['id', 'title', 'url', 'num_points', 'num_comments', 'author', 'created_at']\n",
            "['12224879', 'Interactive Dynamic Video', 'http://www.interactivedynamicvideo.com/', '386', '52', 'ne0phyte', '8/4/2016 11:52']\n",
            "['10975351', 'How to Use Open Source and Shut the Fuck Up at the Same Time', 'http://hueniverse.com/2016/01/26/how-to-use-open-source-and-shut-the-fuck-up-at-the-same-time/', '39', '10', 'josep2', '1/26/2016 19:30']\n",
            "['11964716', \"Florida DJs May Face Felony for April Fools' Water Joke\", 'http://www.thewire.com/entertainment/2013/04/florida-djs-april-fools-water-joke/63798/', '2', '1', 'vezycash', '6/23/2016 22:20']\n",
            "['11919867', 'Technology ventures: From Idea to Enterprise', 'https://www.amazon.com/Technology-Ventures-Enterprise-Thomas-Byers/dp/0073523429', '3', '1', 'hswarna', '6/17/2016 0:01']\n",
            "['10301696', 'Note by Note: The Making of Steinway L1037 (2007)', 'http://www.nytimes.com/2007/11/07/movies/07stein.html?_r=0', '8', '2', 'walterbell', '9/30/2015 4:12']\n"
          ],
          "name": "stdout"
        }
      ]
    },
    {
      "cell_type": "markdown",
      "metadata": {
        "id": "JPNfVbIFfs6S",
        "colab_type": "text"
      },
      "source": [
        "# Filtering Post Types by Title from the Data\n",
        "Since one of our goal is to compare posts which ask something (\"Ask HN\") or provide interesting contents to the forum (\"Show HN\"). We only concern the post title containing ```Ask HN``` or ```Show HN```."
      ]
    },
    {
      "cell_type": "code",
      "metadata": {
        "id": "t_sR_154gi_l",
        "colab_type": "code",
        "colab": {
          "base_uri": "https://localhost:8080/",
          "height": 162
        },
        "outputId": "2139b876-901c-4325-9db3-6ff4f459e36a"
      },
      "source": [
        "# Create the lists that contain three types of posts\n",
        "ask_posts = []\n",
        "show_posts = []\n",
        "other_posts = []\n",
        "\n",
        "# Separate rows into the lists\n",
        "for row in hn:\n",
        "    title = row[1].lower()\n",
        "    if title.startswith('ask hn'):\n",
        "        ask_posts.append(row)\n",
        "    elif title.startswith('show hn'):\n",
        "        show_posts.append(row)\n",
        "    else:\n",
        "        other_posts.append(row)\n",
        "\n",
        "# Check the number of posts in lists\n",
        "print('Number of \\\"Ask HN\\\" posts: ',len(ask_posts))\n",
        "print(*ask_posts[:2],sep = '\\n')\n",
        "print('Number of \\\"Show HN\\\" posts: ',len(show_posts))\n",
        "print(*show_posts[:2],sep = '\\n')\n",
        "print('Number of other posts: ',len(other_posts))"
      ],
      "execution_count": 3,
      "outputs": [
        {
          "output_type": "stream",
          "text": [
            "Number of \"Ask HN\" posts:  1744\n",
            "['12296411', 'Ask HN: How to improve my personal website?', '', '2', '6', 'ahmedbaracat', '8/16/2016 9:55']\n",
            "['10610020', 'Ask HN: Am I the only one outraged by Twitter shutting down share counts?', '', '28', '29', 'tkfx', '11/22/2015 13:43']\n",
            "Number of \"Show HN\" posts:  1162\n",
            "['10627194', 'Show HN: Wio Link  ESP8266 Based Web of Things Hardware Development Platform', 'https://iot.seeed.cc', '26', '22', 'kfihihc', '11/25/2015 14:03']\n",
            "['10646440', 'Show HN: Something pointless I made', 'http://dn.ht/picklecat/', '747', '102', 'dhotson', '11/29/2015 22:46']\n",
            "Number of other posts:  17194\n"
          ],
          "name": "stdout"
        }
      ]
    },
    {
      "cell_type": "markdown",
      "metadata": {
        "id": "DE5wEQd94sgV",
        "colab_type": "text"
      },
      "source": [
        "# Comparing the Popularity between Post Types\n",
        "In below, we will find out the poplularity from \"Ask HN\" and \"Show HN\" post by finding the average number for comments of both post types and analyse the results."
      ]
    },
    {
      "cell_type": "code",
      "metadata": {
        "id": "UtzpxPZi5ut0",
        "colab_type": "code",
        "colab": {
          "base_uri": "https://localhost:8080/",
          "height": 53
        },
        "outputId": "bb35b302-474b-4f42-e619-b981adac6f4d"
      },
      "source": [
        "# Find the total number of comments on ask posts\n",
        "total_ask_comments = 0\n",
        "for ask_post in ask_posts:\n",
        "    num_comments = int(ask_post[4])\n",
        "    total_ask_comments += num_comments\n",
        "\n",
        "#Compute the average number of comment on ask posts\n",
        "num_of_ask_posts = len(ask_posts)\n",
        "avg_ask_comments = round(total_ask_comments / num_of_ask_posts)\n",
        "\n",
        "print('Average number of comments on ask posts:',avg_ask_comments)\n",
        "\n",
        "# Find the total number of comments on show posts\n",
        "total_show_comments = 0\n",
        "for show_post in show_posts:\n",
        "    num_comments = int(show_post[4])\n",
        "    total_show_comments += num_comments\n",
        "\n",
        "#Compute the average number of comment on show posts\n",
        "num_of_show_posts = len(show_posts)\n",
        "avg_show_comments = round(total_show_comments / num_of_show_posts)\n",
        "\n",
        "print('Average number of comments on show posts:',avg_show_comments)"
      ],
      "execution_count": 4,
      "outputs": [
        {
          "output_type": "stream",
          "text": [
            "Average number of comments on ask posts: 14\n",
            "Average number of comments on show posts: 10\n"
          ],
          "name": "stdout"
        }
      ]
    },
    {
      "cell_type": "markdown",
      "metadata": {
        "id": "QpSOdrRG9J-H",
        "colab_type": "text"
      },
      "source": [
        "The average number of comment on ask posts is larger than the one on show posts by 4.\n",
        "\n",
        "It turns out that posts asking questions in the forum are more likely to be replied most than the posts showing the projects."
      ]
    },
    {
      "cell_type": "markdown",
      "metadata": {
        "id": "SkCXUcYg_KTN",
        "colab_type": "text"
      },
      "source": [
        "# Finding the Most Popular Time Period for Posting\n",
        "We will try to find if ask posts created at a certain time are more likely to attract comments.\n",
        "\n",
        "We will use the following steps to perform the analysis:\n",
        "1. Find out the hour when the posts created and the number of comments these posts received.\n",
        "2. Find out the average number of comment ask posts receive by hour created."
      ]
    },
    {
      "cell_type": "code",
      "metadata": {
        "id": "od93jLG-P5LH",
        "colab_type": "code",
        "colab": {}
      },
      "source": [
        "# Create the list of the data we want to focus\n",
        "import datetime as dt\n",
        "result_list = []\n",
        "for ask_post in ask_posts:\n",
        "    created_time = ask_post[6] # The time the post was created\n",
        "    num_comments = ask_post[4] # The number of comments the post got\n",
        "    result_list.append([created_time,num_comments])\n",
        "\n",
        "# Create dictionaries for later use\n",
        "counts_by_hour = {} # Counting the total number of post by hour the post was created\n",
        "comments_by_hour = {} # Counting the number of comment by hour the post was created\n",
        "\n",
        "# Count the total post and comment by hour the post was created\n",
        "for result in result_list:\n",
        "    date_time = result[0]\n",
        "    num_comment = result[1]\n",
        "    date_time = dt.datetime.strptime(date_time,\"%m/%d/%Y %H:%M\") #Changing the format of date and time in result list\n",
        "    hour = dt.datetime.strftime(date_time,\"%H\")\n",
        "    if hour not in counts_by_hour:\n",
        "        counts_by_hour[hour] = 1\n",
        "        comments_by_hour[hour] = int(num_comment)\n",
        "    else:\n",
        "        counts_by_hour[hour] += 1\n",
        "        comments_by_hour[hour] += int(num_comment)\n",
        "\n",
        "# Calculate the average number of comment for posts created in every hour of the day\n",
        "avg_by_hour = []\n",
        "for hour in counts_by_hour:\n",
        "    avg_comments = comments_by_hour[hour] / counts_by_hour[hour]\n",
        "    avg_by_hour.append([hour,avg_comments])"
      ],
      "execution_count": 5,
      "outputs": []
    },
    {
      "cell_type": "markdown",
      "metadata": {
        "id": "AsL2enoXngWr",
        "colab_type": "text"
      },
      "source": [
        "Then, we will sort the list ```avg_by_hour``` from the highest values to get the top 5 hours for Ask Post comments."
      ]
    },
    {
      "cell_type": "code",
      "metadata": {
        "id": "Xd8p3Pk0nvQZ",
        "colab_type": "code",
        "colab": {
          "base_uri": "https://localhost:8080/",
          "height": 73
        },
        "outputId": "70a4fcc0-1f16-4b87-90aa-b73c7c2719ad"
      },
      "source": [
        "# Create the list which swap the value of avg_by_hour list\n",
        "swap_avg_by_hour = []\n",
        "for hour in avg_by_hour:\n",
        "    swap_avg_by_hour.append([hour[1],hour[0]])\n",
        "print(swap_avg_by_hour)\n",
        "\n",
        "# Sort the swapped list\n",
        "sorted_swap = sorted(swap_avg_by_hour, reverse = True)\n",
        "\n",
        "# Print the Top 5 hours for Ask Post Comments\n",
        "print(sorted_swap[:5])"
      ],
      "execution_count": 7,
      "outputs": [
        {
          "output_type": "stream",
          "text": [
            "[[5.5777777777777775, '09'], [14.741176470588234, '13'], [13.440677966101696, '10'], [13.233644859813085, '14'], [16.796296296296298, '16'], [7.985294117647059, '23'], [9.41095890410959, '12'], [11.46, '17'], [38.5948275862069, '15'], [16.009174311926607, '21'], [21.525, '20'], [23.810344827586206, '02'], [13.20183486238532, '18'], [7.796296296296297, '03'], [10.08695652173913, '05'], [10.8, '19'], [11.383333333333333, '01'], [6.746478873239437, '22'], [10.25, '08'], [7.170212765957447, '04'], [8.127272727272727, '00'], [9.022727272727273, '06'], [7.852941176470588, '07'], [11.051724137931034, '11']]\n",
            "[[38.5948275862069, '15'], [23.810344827586206, '02'], [21.525, '20'], [16.796296296296298, '16'], [16.009174311926607, '21']]\n"
          ],
          "name": "stdout"
        }
      ]
    },
    {
      "cell_type": "markdown",
      "metadata": {
        "id": "pYQ-efPk89-u",
        "colab_type": "text"
      },
      "source": [
        "To increase the readability, we will use ```str.format``` to generate the final result."
      ]
    },
    {
      "cell_type": "code",
      "metadata": {
        "id": "rwWMcdM-3bnF",
        "colab_type": "code",
        "colab": {
          "base_uri": "https://localhost:8080/",
          "height": 447
        },
        "outputId": "9cd387c4-8d3c-4759-eacb-dfa388e090d0"
      },
      "source": [
        "# Print the formatted hour and average as the final data of the analysis\n",
        "for comments in sorted_swap:\n",
        "    hour = comments[1]\n",
        "    formatted_hour = dt.datetime.strptime(hour,'%H')\n",
        "    formatted_hour = dt.datetime.strftime(formatted_hour,'%H:%M')\n",
        "    result_line = \"{}: {:.2f} average comments per post\".format(formatted_hour, comments[0])\n",
        "    print(result_line)"
      ],
      "execution_count": 9,
      "outputs": [
        {
          "output_type": "stream",
          "text": [
            "15:00: 38.59 average comments per post\n",
            "02:00: 23.81 average comments per post\n",
            "20:00: 21.52 average comments per post\n",
            "16:00: 16.80 average comments per post\n",
            "21:00: 16.01 average comments per post\n",
            "13:00: 14.74 average comments per post\n",
            "10:00: 13.44 average comments per post\n",
            "14:00: 13.23 average comments per post\n",
            "18:00: 13.20 average comments per post\n",
            "17:00: 11.46 average comments per post\n",
            "01:00: 11.38 average comments per post\n",
            "11:00: 11.05 average comments per post\n",
            "19:00: 10.80 average comments per post\n",
            "08:00: 10.25 average comments per post\n",
            "05:00: 10.09 average comments per post\n",
            "12:00: 9.41 average comments per post\n",
            "06:00: 9.02 average comments per post\n",
            "00:00: 8.13 average comments per post\n",
            "23:00: 7.99 average comments per post\n",
            "07:00: 7.85 average comments per post\n",
            "03:00: 7.80 average comments per post\n",
            "04:00: 7.17 average comments per post\n",
            "22:00: 6.75 average comments per post\n",
            "09:00: 5.58 average comments per post\n"
          ],
          "name": "stdout"
        }
      ]
    },
    {
      "cell_type": "markdown",
      "metadata": {
        "id": "LdUa4zROuduc",
        "colab_type": "text"
      },
      "source": [
        "As we can see from the data above, to have the highest chance to receive most comments from Hacker News, is to create a Ask post at 3pm EST (or 3am in HK time zone). Average of 38.59 comments will be received to such posts."
      ]
    },
    {
      "cell_type": "markdown",
      "metadata": {
        "id": "aU8RZkuiyKiy",
        "colab_type": "text"
      },
      "source": [
        "# Summary\n",
        "In this project, we analyzed the posts from Hacker News to find the post type and time period to attract the most comments. The conculsion we found is that, by asking the question at 3pm EST, the post will likely to receive most comments in Hacker News."
      ]
    }
  ]
}